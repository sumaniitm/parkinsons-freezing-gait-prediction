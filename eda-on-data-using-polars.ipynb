{
 "cells": [
  {
   "cell_type": "code",
   "execution_count": 1,
   "id": "057cd6e0",
   "metadata": {
    "_cell_guid": "b1076dfc-b9ad-4769-8c92-a6c4dae69d19",
    "_uuid": "8f2839f25d086af736a60e9eeb907d3b93b6e0e5",
    "execution": {
     "iopub.execute_input": "2023-04-23T13:08:42.524641Z",
     "iopub.status.busy": "2023-04-23T13:08:42.524043Z",
     "iopub.status.idle": "2023-04-23T13:08:45.973035Z",
     "shell.execute_reply": "2023-04-23T13:08:45.971779Z"
    },
    "papermill": {
     "duration": 3.457929,
     "end_time": "2023-04-23T13:08:45.976029",
     "exception": false,
     "start_time": "2023-04-23T13:08:42.518100",
     "status": "completed"
    },
    "tags": []
   },
   "outputs": [
    {
     "data": {
      "text/plain": [
       "\"for dirname, _, filenames in os.walk('/kaggle/input'):\\n    for filename in filenames:\\n        print(os.path.join(dirname, filename))\""
      ]
     },
     "execution_count": 1,
     "metadata": {},
     "output_type": "execute_result"
    }
   ],
   "source": [
    "import numpy as np # linear algebra\n",
    "import pandas as pd # data processing, CSV file I/O (e.g. pd.read_csv)\n",
    "import os\n",
    "import gc\n",
    "from pandas.plotting import scatter_matrix\n",
    "%matplotlib inline\n",
    "import matplotlib.pyplot as plt\n",
    "\n",
    "from sklearn.model_selection import StratifiedShuffleSplit\n",
    "from sklearn.compose import ColumnTransformer\n",
    "from sklearn.preprocessing import OneHotEncoder\n",
    "from sklearn.pipeline import Pipeline\n",
    "from sklearn.preprocessing import StandardScaler\n",
    "from sklearn.linear_model import SGDRegressor\n",
    "from sklearn.metrics import mean_squared_error\n",
    "from sklearn.linear_model import LinearRegression\n",
    "from sklearn.linear_model import Ridge, RidgeCV, Lasso, LassoCV\n",
    "from sklearn.preprocessing import PolynomialFeatures\n",
    "from sklearn.tree import DecisionTreeRegressor\n",
    "from sklearn.ensemble import RandomForestRegressor\n",
    "from sklearn.model_selection import cross_val_score\n",
    "from scipy.optimize import minimize\n",
    "from statsmodels.tsa.seasonal import seasonal_decompose\n",
    "import re\n",
    "import plotly.express as px\n",
    "# Input data files are available in the read-only \"../input/\" directory\n",
    "# For example, running this (by clicking run or pressing Shift+Enter) will list all files under the input directory\n",
    "\n",
    "import os\n",
    "\"\"\"for dirname, _, filenames in os.walk('/kaggle/input'):\n",
    "    for filename in filenames:\n",
    "        print(os.path.join(dirname, filename))\"\"\""
   ]
  },
  {
   "cell_type": "code",
   "execution_count": 2,
   "id": "60e5d63e",
   "metadata": {
    "execution": {
     "iopub.execute_input": "2023-04-23T13:08:45.984108Z",
     "iopub.status.busy": "2023-04-23T13:08:45.983707Z",
     "iopub.status.idle": "2023-04-23T13:08:46.186724Z",
     "shell.execute_reply": "2023-04-23T13:08:46.185116Z"
    },
    "papermill": {
     "duration": 0.210271,
     "end_time": "2023-04-23T13:08:46.189488",
     "exception": false,
     "start_time": "2023-04-23T13:08:45.979217",
     "status": "completed"
    },
    "tags": []
   },
   "outputs": [],
   "source": [
    "import polars as pl"
   ]
  },
  {
   "cell_type": "code",
   "execution_count": 3,
   "id": "abd7e2c3",
   "metadata": {
    "execution": {
     "iopub.execute_input": "2023-04-23T13:08:46.197481Z",
     "iopub.status.busy": "2023-04-23T13:08:46.197013Z",
     "iopub.status.idle": "2023-04-23T13:09:05.896692Z",
     "shell.execute_reply": "2023-04-23T13:09:05.895301Z"
    },
    "papermill": {
     "duration": 19.706928,
     "end_time": "2023-04-23T13:09:05.899542",
     "exception": false,
     "start_time": "2023-04-23T13:08:46.192614",
     "status": "completed"
    },
    "tags": []
   },
   "outputs": [],
   "source": [
    "#defog_train_data = pl.read_csv(\"/kaggle/input/tlvmc-parkinsons-freezing-gait-prediction/train/defog/*\", try_parse_dates=True)\n",
    "\n",
    "defog_train_data = pl.DataFrame()\n",
    "\n",
    "for dirname, _, filenames in os.walk('/kaggle/input/tlvmc-parkinsons-freezing-gait-prediction/train/defog'):\n",
    "    for filename in filenames:\n",
    "        #print(filename[0:-4])\n",
    "        temp = pl.scan_csv(os.path.join(dirname, filename), try_parse_dates=True)\\\n",
    "        .filter((pl.col(\"Valid\")) & (pl.col(\"Task\")))\\\n",
    "        .with_columns(pl.lit(filename[0:-4]).alias('Id'))\\\n",
    "        .collect()\n",
    "        #temp = temp.with_columns(pl.lit(filename[1:-5]).alias('Id'))\n",
    "        defog_train_data = pl.concat([defog_train_data, temp], how=\"vertical\")"
   ]
  },
  {
   "cell_type": "code",
   "execution_count": 4,
   "id": "72ba2dcc",
   "metadata": {
    "execution": {
     "iopub.execute_input": "2023-04-23T13:09:05.908123Z",
     "iopub.status.busy": "2023-04-23T13:09:05.907721Z",
     "iopub.status.idle": "2023-04-23T13:09:06.014469Z",
     "shell.execute_reply": "2023-04-23T13:09:06.013012Z"
    },
    "papermill": {
     "duration": 0.114308,
     "end_time": "2023-04-23T13:09:06.017152",
     "exception": false,
     "start_time": "2023-04-23T13:09:05.902844",
     "status": "completed"
    },
    "tags": []
   },
   "outputs": [
    {
     "name": "stdout",
     "output_type": "stream",
     "text": [
      "91\n",
      "291.12402725219727\n",
      "(4111322, 10)\n"
     ]
    }
   ],
   "source": [
    "print(defog_train_data.select('Id').n_unique())\n",
    "print(defog_train_data.estimated_size(\"mb\"))\n",
    "print(defog_train_data.shape)"
   ]
  },
  {
   "cell_type": "code",
   "execution_count": 5,
   "id": "0068d085",
   "metadata": {
    "execution": {
     "iopub.execute_input": "2023-04-23T13:09:06.025402Z",
     "iopub.status.busy": "2023-04-23T13:09:06.024965Z",
     "iopub.status.idle": "2023-04-23T13:09:06.464363Z",
     "shell.execute_reply": "2023-04-23T13:09:06.463260Z"
    },
    "papermill": {
     "duration": 0.446456,
     "end_time": "2023-04-23T13:09:06.466916",
     "exception": false,
     "start_time": "2023-04-23T13:09:06.020460",
     "status": "completed"
    },
    "tags": []
   },
   "outputs": [
    {
     "data": {
      "text/html": [
       "<div><style>\n",
       ".dataframe > thead > tr > th,\n",
       ".dataframe > tbody > tr > td {\n",
       "  text-align: right;\n",
       "}\n",
       "</style>\n",
       "<small>shape: (7, 11)</small><table border=\"1\" class=\"dataframe\"><thead><tr><th>describe</th><th>Time</th><th>AccV</th><th>AccML</th><th>AccAP</th><th>StartHesitation</th><th>Turn</th><th>Walking</th><th>Valid</th><th>Task</th><th>Id</th></tr><tr><td>str</td><td>f64</td><td>f64</td><td>f64</td><td>f64</td><td>f64</td><td>f64</td><td>f64</td><td>f64</td><td>f64</td><td>str</td></tr></thead><tbody><tr><td>&quot;count&quot;</td><td>4.111322e6</td><td>4.111322e6</td><td>4.111322e6</td><td>4.111322e6</td><td>4.111322e6</td><td>4.111322e6</td><td>4.111322e6</td><td>4.111322e6</td><td>4.111322e6</td><td>&quot;4111322&quot;</td></tr><tr><td>&quot;null_count&quot;</td><td>0.0</td><td>0.0</td><td>0.0</td><td>0.0</td><td>0.0</td><td>0.0</td><td>0.0</td><td>0.0</td><td>0.0</td><td>&quot;0&quot;</td></tr><tr><td>&quot;mean&quot;</td><td>91135.731763</td><td>-0.934887</td><td>-0.001301</td><td>-0.226019</td><td>0.000021</td><td>0.10079</td><td>0.017153</td><td>1.0</td><td>1.0</td><td>null</td></tr><tr><td>&quot;std&quot;</td><td>70209.818382</td><td>0.106942</td><td>0.139912</td><td>0.2442</td><td>0.004626</td><td>0.30105</td><td>0.129841</td><td>0.0</td><td>0.0</td><td>null</td></tr><tr><td>&quot;min&quot;</td><td>1000.0</td><td>-6.024701</td><td>-2.115008</td><td>-5.11865</td><td>0.0</td><td>0.0</td><td>0.0</td><td>1.0</td><td>1.0</td><td>&quot;02ea782681&quot;</td></tr><tr><td>&quot;max&quot;</td><td>414387.0</td><td>4.458365</td><td>4.524038</td><td>4.388132</td><td>1.0</td><td>1.0</td><td>1.0</td><td>1.0</td><td>1.0</td><td>&quot;f9fc61ce85&quot;</td></tr><tr><td>&quot;median&quot;</td><td>76864.0</td><td>-0.939016</td><td>0.0</td><td>-0.25</td><td>0.0</td><td>0.0</td><td>0.0</td><td>1.0</td><td>1.0</td><td>null</td></tr></tbody></table></div>"
      ],
      "text/plain": [
       "shape: (7, 11)\n",
       "┌───────────┬───────────┬───────────┬───────────┬───┬───────────┬───────────┬───────────┬──────────┐\n",
       "│ describe  ┆ Time      ┆ AccV      ┆ AccML     ┆ … ┆ Walking   ┆ Valid     ┆ Task      ┆ Id       │\n",
       "│ ---       ┆ ---       ┆ ---       ┆ ---       ┆   ┆ ---       ┆ ---       ┆ ---       ┆ ---      │\n",
       "│ str       ┆ f64       ┆ f64       ┆ f64       ┆   ┆ f64       ┆ f64       ┆ f64       ┆ str      │\n",
       "╞═══════════╪═══════════╪═══════════╪═══════════╪═══╪═══════════╪═══════════╪═══════════╪══════════╡\n",
       "│ count     ┆ 4.111322e ┆ 4.111322e ┆ 4.111322e ┆ … ┆ 4.111322e ┆ 4.111322e ┆ 4.111322e ┆ 4111322  │\n",
       "│           ┆ 6         ┆ 6         ┆ 6         ┆   ┆ 6         ┆ 6         ┆ 6         ┆          │\n",
       "│ null_coun ┆ 0.0       ┆ 0.0       ┆ 0.0       ┆ … ┆ 0.0       ┆ 0.0       ┆ 0.0       ┆ 0        │\n",
       "│ t         ┆           ┆           ┆           ┆   ┆           ┆           ┆           ┆          │\n",
       "│ mean      ┆ 91135.731 ┆ -0.934887 ┆ -0.001301 ┆ … ┆ 0.017153  ┆ 1.0       ┆ 1.0       ┆ null     │\n",
       "│           ┆ 763       ┆           ┆           ┆   ┆           ┆           ┆           ┆          │\n",
       "│ std       ┆ 70209.818 ┆ 0.106942  ┆ 0.139912  ┆ … ┆ 0.129841  ┆ 0.0       ┆ 0.0       ┆ null     │\n",
       "│           ┆ 382       ┆           ┆           ┆   ┆           ┆           ┆           ┆          │\n",
       "│ min       ┆ 1000.0    ┆ -6.024701 ┆ -2.115008 ┆ … ┆ 0.0       ┆ 1.0       ┆ 1.0       ┆ 02ea7826 │\n",
       "│           ┆           ┆           ┆           ┆   ┆           ┆           ┆           ┆ 81       │\n",
       "│ max       ┆ 414387.0  ┆ 4.458365  ┆ 4.524038  ┆ … ┆ 1.0       ┆ 1.0       ┆ 1.0       ┆ f9fc61ce │\n",
       "│           ┆           ┆           ┆           ┆   ┆           ┆           ┆           ┆ 85       │\n",
       "│ median    ┆ 76864.0   ┆ -0.939016 ┆ 0.0       ┆ … ┆ 0.0       ┆ 1.0       ┆ 1.0       ┆ null     │\n",
       "└───────────┴───────────┴───────────┴───────────┴───┴───────────┴───────────┴───────────┴──────────┘"
      ]
     },
     "execution_count": 5,
     "metadata": {},
     "output_type": "execute_result"
    }
   ],
   "source": [
    "defog_train_data.describe()"
   ]
  },
  {
   "cell_type": "code",
   "execution_count": 6,
   "id": "cb4ce68e",
   "metadata": {
    "execution": {
     "iopub.execute_input": "2023-04-23T13:09:06.476343Z",
     "iopub.status.busy": "2023-04-23T13:09:06.475558Z",
     "iopub.status.idle": "2023-04-23T13:09:06.498914Z",
     "shell.execute_reply": "2023-04-23T13:09:06.497948Z"
    },
    "papermill": {
     "duration": 0.030732,
     "end_time": "2023-04-23T13:09:06.501196",
     "exception": false,
     "start_time": "2023-04-23T13:09:06.470464",
     "status": "completed"
    },
    "tags": []
   },
   "outputs": [
    {
     "name": "stdout",
     "output_type": "stream",
     "text": [
      "(137, 4)\n",
      "45\n",
      "137\n"
     ]
    },
    {
     "data": {
      "text/html": [
       "<div><style>\n",
       ".dataframe > thead > tr > th,\n",
       ".dataframe > tbody > tr > td {\n",
       "  text-align: right;\n",
       "}\n",
       "</style>\n",
       "<small>shape: (10, 4)</small><table border=\"1\" class=\"dataframe\"><thead><tr><th>Id</th><th>Subject</th><th>Visit</th><th>Medication</th></tr><tr><td>str</td><td>str</td><td>i64</td><td>str</td></tr></thead><tbody><tr><td>&quot;02ab235146&quot;</td><td>&quot;ab54e1&quot;</td><td>2</td><td>&quot;on&quot;</td></tr><tr><td>&quot;02ea782681&quot;</td><td>&quot;bf608b&quot;</td><td>2</td><td>&quot;on&quot;</td></tr><tr><td>&quot;06414383cf&quot;</td><td>&quot;c0b71e&quot;</td><td>2</td><td>&quot;off&quot;</td></tr><tr><td>&quot;092b4c1819&quot;</td><td>&quot;b6a627&quot;</td><td>1</td><td>&quot;off&quot;</td></tr><tr><td>&quot;0a900ed8a2&quot;</td><td>&quot;b7bd52&quot;</td><td>2</td><td>&quot;on&quot;</td></tr><tr><td>&quot;0c55be4384&quot;</td><td>&quot;39f9c0&quot;</td><td>2</td><td>&quot;off&quot;</td></tr><tr><td>&quot;0d7ab3a9f9&quot;</td><td>&quot;c0b71e&quot;</td><td>2</td><td>&quot;on&quot;</td></tr><tr><td>&quot;0eaac04f17&quot;</td><td>&quot;d79889&quot;</td><td>2</td><td>&quot;off&quot;</td></tr><tr><td>&quot;0ec76d2d8e&quot;</td><td>&quot;d79889&quot;</td><td>1</td><td>&quot;on&quot;</td></tr><tr><td>&quot;139f60d29b&quot;</td><td>&quot;49f526&quot;</td><td>1</td><td>&quot;off&quot;</td></tr></tbody></table></div>"
      ],
      "text/plain": [
       "shape: (10, 4)\n",
       "┌────────────┬─────────┬───────┬────────────┐\n",
       "│ Id         ┆ Subject ┆ Visit ┆ Medication │\n",
       "│ ---        ┆ ---     ┆ ---   ┆ ---        │\n",
       "│ str        ┆ str     ┆ i64   ┆ str        │\n",
       "╞════════════╪═════════╪═══════╪════════════╡\n",
       "│ 02ab235146 ┆ ab54e1  ┆ 2     ┆ on         │\n",
       "│ 02ea782681 ┆ bf608b  ┆ 2     ┆ on         │\n",
       "│ 06414383cf ┆ c0b71e  ┆ 2     ┆ off        │\n",
       "│ 092b4c1819 ┆ b6a627  ┆ 1     ┆ off        │\n",
       "│ …          ┆ …       ┆ …     ┆ …          │\n",
       "│ 0d7ab3a9f9 ┆ c0b71e  ┆ 2     ┆ on         │\n",
       "│ 0eaac04f17 ┆ d79889  ┆ 2     ┆ off        │\n",
       "│ 0ec76d2d8e ┆ d79889  ┆ 1     ┆ on         │\n",
       "│ 139f60d29b ┆ 49f526  ┆ 1     ┆ off        │\n",
       "└────────────┴─────────┴───────┴────────────┘"
      ]
     },
     "execution_count": 6,
     "metadata": {},
     "output_type": "execute_result"
    }
   ],
   "source": [
    "defog_metadata = pl.scan_csv(\"/kaggle/input/tlvmc-parkinsons-freezing-gait-prediction/defog_metadata.csv\", try_parse_dates=True)\\\n",
    ".collect()\n",
    "print(defog_metadata.shape)\n",
    "print(defog_metadata.select('Subject').n_unique())\n",
    "print(defog_metadata.select('Id').n_unique())\n",
    "defog_metadata.head(10)"
   ]
  },
  {
   "cell_type": "code",
   "execution_count": 7,
   "id": "7f347b1c",
   "metadata": {
    "execution": {
     "iopub.execute_input": "2023-04-23T13:09:06.510251Z",
     "iopub.status.busy": "2023-04-23T13:09:06.509824Z",
     "iopub.status.idle": "2023-04-23T13:09:06.532995Z",
     "shell.execute_reply": "2023-04-23T13:09:06.531555Z"
    },
    "papermill": {
     "duration": 0.030769,
     "end_time": "2023-04-23T13:09:06.535628",
     "exception": false,
     "start_time": "2023-04-23T13:09:06.504859",
     "status": "completed"
    },
    "tags": []
   },
   "outputs": [
    {
     "name": "stdout",
     "output_type": "stream",
     "text": [
      "(173, 8)\n",
      "136\n"
     ]
    },
    {
     "data": {
      "text/html": [
       "<div><style>\n",
       ".dataframe > thead > tr > th,\n",
       ".dataframe > tbody > tr > td {\n",
       "  text-align: right;\n",
       "}\n",
       "</style>\n",
       "<small>shape: (10, 8)</small><table border=\"1\" class=\"dataframe\"><thead><tr><th>Subject</th><th>Visit</th><th>Age</th><th>Sex</th><th>YearsSinceDx</th><th>UPDRSIII_On</th><th>UPDRSIII_Off</th><th>NFOGQ</th></tr><tr><td>str</td><td>i64</td><td>i64</td><td>str</td><td>f64</td><td>i64</td><td>i64</td><td>i64</td></tr></thead><tbody><tr><td>&quot;04fcdb&quot;</td><td>1</td><td>63</td><td>&quot;M&quot;</td><td>3.0</td><td>30</td><td>null</td><td>0</td></tr><tr><td>&quot;05595e&quot;</td><td>1</td><td>56</td><td>&quot;M&quot;</td><td>8.0</td><td>28</td><td>null</td><td>0</td></tr><tr><td>&quot;0967b2&quot;</td><td>1</td><td>59</td><td>&quot;M&quot;</td><td>10.0</td><td>38</td><td>48</td><td>19</td></tr><tr><td>&quot;0967b2&quot;</td><td>2</td><td>59</td><td>&quot;M&quot;</td><td>10.0</td><td>37</td><td>44</td><td>13</td></tr><tr><td>&quot;097078&quot;</td><td>null</td><td>70</td><td>&quot;F&quot;</td><td>10.0</td><td>27</td><td>50</td><td>20</td></tr><tr><td>&quot;0e0908&quot;</td><td>null</td><td>67</td><td>&quot;M&quot;</td><td>6.0</td><td>16</td><td>61</td><td>21</td></tr><tr><td>&quot;109122&quot;</td><td>2</td><td>75</td><td>&quot;F&quot;</td><td>3.0</td><td>22</td><td>24</td><td>12</td></tr><tr><td>&quot;109122&quot;</td><td>1</td><td>75</td><td>&quot;F&quot;</td><td>3.0</td><td>21</td><td>30</td><td>19</td></tr><tr><td>&quot;10943a&quot;</td><td>1</td><td>61</td><td>&quot;F&quot;</td><td>1.0</td><td>14</td><td>null</td><td>0</td></tr><tr><td>&quot;11404e&quot;</td><td>null</td><td>67</td><td>&quot;F&quot;</td><td>4.0</td><td>null</td><td>18</td><td>29</td></tr></tbody></table></div>"
      ],
      "text/plain": [
       "shape: (10, 8)\n",
       "┌─────────┬───────┬─────┬─────┬──────────────┬─────────────┬──────────────┬───────┐\n",
       "│ Subject ┆ Visit ┆ Age ┆ Sex ┆ YearsSinceDx ┆ UPDRSIII_On ┆ UPDRSIII_Off ┆ NFOGQ │\n",
       "│ ---     ┆ ---   ┆ --- ┆ --- ┆ ---          ┆ ---         ┆ ---          ┆ ---   │\n",
       "│ str     ┆ i64   ┆ i64 ┆ str ┆ f64          ┆ i64         ┆ i64          ┆ i64   │\n",
       "╞═════════╪═══════╪═════╪═════╪══════════════╪═════════════╪══════════════╪═══════╡\n",
       "│ 04fcdb  ┆ 1     ┆ 63  ┆ M   ┆ 3.0          ┆ 30          ┆ null         ┆ 0     │\n",
       "│ 05595e  ┆ 1     ┆ 56  ┆ M   ┆ 8.0          ┆ 28          ┆ null         ┆ 0     │\n",
       "│ 0967b2  ┆ 1     ┆ 59  ┆ M   ┆ 10.0         ┆ 38          ┆ 48           ┆ 19    │\n",
       "│ 0967b2  ┆ 2     ┆ 59  ┆ M   ┆ 10.0         ┆ 37          ┆ 44           ┆ 13    │\n",
       "│ …       ┆ …     ┆ …   ┆ …   ┆ …            ┆ …           ┆ …            ┆ …     │\n",
       "│ 109122  ┆ 2     ┆ 75  ┆ F   ┆ 3.0          ┆ 22          ┆ 24           ┆ 12    │\n",
       "│ 109122  ┆ 1     ┆ 75  ┆ F   ┆ 3.0          ┆ 21          ┆ 30           ┆ 19    │\n",
       "│ 10943a  ┆ 1     ┆ 61  ┆ F   ┆ 1.0          ┆ 14          ┆ null         ┆ 0     │\n",
       "│ 11404e  ┆ null  ┆ 67  ┆ F   ┆ 4.0          ┆ null        ┆ 18           ┆ 29    │\n",
       "└─────────┴───────┴─────┴─────┴──────────────┴─────────────┴──────────────┴───────┘"
      ]
     },
     "execution_count": 7,
     "metadata": {},
     "output_type": "execute_result"
    }
   ],
   "source": [
    "subjects = pl.scan_csv(\"/kaggle/input/tlvmc-parkinsons-freezing-gait-prediction/subjects.csv\", try_parse_dates=True)\\\n",
    ".collect()\n",
    "print(subjects.shape)\n",
    "print(subjects.select('Subject').n_unique())\n",
    "subjects.head(10)"
   ]
  },
  {
   "cell_type": "code",
   "execution_count": null,
   "id": "b6b20d62",
   "metadata": {
    "papermill": {
     "duration": 0.003582,
     "end_time": "2023-04-23T13:09:06.543103",
     "exception": false,
     "start_time": "2023-04-23T13:09:06.539521",
     "status": "completed"
    },
    "tags": []
   },
   "outputs": [],
   "source": []
  }
 ],
 "metadata": {
  "kernelspec": {
   "display_name": "Python 3",
   "language": "python",
   "name": "python3"
  },
  "language_info": {
   "codemirror_mode": {
    "name": "ipython",
    "version": 3
   },
   "file_extension": ".py",
   "mimetype": "text/x-python",
   "name": "python",
   "nbconvert_exporter": "python",
   "pygments_lexer": "ipython3",
   "version": "3.7.12"
  },
  "papermill": {
   "default_parameters": {},
   "duration": 35.449868,
   "end_time": "2023-04-23T13:09:07.369649",
   "environment_variables": {},
   "exception": null,
   "input_path": "__notebook__.ipynb",
   "output_path": "__notebook__.ipynb",
   "parameters": {},
   "start_time": "2023-04-23T13:08:31.919781",
   "version": "2.4.0"
  }
 },
 "nbformat": 4,
 "nbformat_minor": 5
}
